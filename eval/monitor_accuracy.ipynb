{
 "cells": [
  {
   "cell_type": "code",
   "execution_count": 1,
   "metadata": {
    "collapsed": false,
    "scrolled": true
   },
   "outputs": [
    {
     "ename": "[string \"-- List files in checkpoint/ that you want to...\"]:10: module 'external.th-utils.misc_utils' not found:\n\tno field package.preload['external.th-utils.misc_utils']\n\tno file '/home/arun/.luarocks/share/lua/5.1/external/th-utils/misc_utils.lua'\n\tno file '/home/arun/.luarocks/share/lua/5.1/external/th-utils/misc_utils/init.lua'\n\tno file '/home/arun/torch/install/share/lua/5.1/external/th-utils/misc_utils.lua'\n\tno file '/home/arun/torch/install/share/lua/5.1/external/th-utils/misc_utils/init.lua'\n\tno file './external/th-utils/misc_utils.lua'\n\tno file '/home/arun/torch/install/share/luajit-2.1.0-beta1/external/th-utils/misc_utils.lua'\n\tno file '/usr/local/share/lua/5.1/external/th-utils/misc_utils.lua'\n\tno file '/usr/local/share/lua/5.1/external/th-utils/misc_utils/init.lua'\n\tno file '/home/arun/torch/install/lib/external/th-utils/misc_utils.so'\n\tno file '/home/arun/.luarocks/lib/lua/5.1/external/th-utils/misc_utils.so'\n\tno file '/home/arun/torch/install/lib/lua/5.1/external/th-utils/misc_utils.so'\n\tno file './external/th-utils/misc_utils.so'\n\tno file '/usr/local/lib/lua/5.1/external/th-utils/misc_utils.so'\n\tno file '/usr/local/lib/lua/5.1/loadall.so'\n\tno file '/home/arun/torch/install/lib/external.so'\n\tno file '/home/arun/.luarocks/lib/lua/5.1/external.so'\n\tno file '/home/arun/torch/install/lib/lua/5.1/external.so'\n\tno file './external.so'\n\tno file '/usr/local/lib/lua/5.1/external.so'\n\tno file '/usr/local/lib/lua/5.1/loadall.so'\nstack traceback:\n\t[C]: in function 'require'\n\t[string \"-- List files in checkpoint/ that you want to...\"]:10: in main chunk\n\t[C]: in function 'xpcall'\n\t/home/arun/torch/install/share/lua/5.1/itorch/main.lua:209: in function </home/arun/torch/install/share/lua/5.1/itorch/main.lua:173>\n\t/home/arun/torch/install/share/lua/5.1/lzmq/poller.lua:75: in function 'poll'\n\t/home/arun/torch/install/share/lua/5.1/lzmq/impl/loop.lua:307: in function 'poll'\n\t/home/arun/torch/install/share/lua/5.1/lzmq/impl/loop.lua:325: in function 'sleep_ex'\n\t/home/arun/torch/install/share/lua/5.1/lzmq/impl/loop.lua:370: in function 'start'\n\t/home/arun/torch/install/share/lua/5.1/itorch/main.lua:388: in main chunk\n\t[C]: in function 'require'\n\t(command line):1: in main chunk\n\t[C]: at 0x00406670",
     "evalue": "",
     "output_type": "error",
     "traceback": [
      "[string \"-- List files in checkpoint/ that you want to...\"]:10: module 'external.th-utils.misc_utils' not found:\n\tno field package.preload['external.th-utils.misc_utils']\n\tno file '/home/arun/.luarocks/share/lua/5.1/external/th-utils/misc_utils.lua'\n\tno file '/home/arun/.luarocks/share/lua/5.1/external/th-utils/misc_utils/init.lua'\n\tno file '/home/arun/torch/install/share/lua/5.1/external/th-utils/misc_utils.lua'\n\tno file '/home/arun/torch/install/share/lua/5.1/external/th-utils/misc_utils/init.lua'\n\tno file './external/th-utils/misc_utils.lua'\n\tno file '/home/arun/torch/install/share/luajit-2.1.0-beta1/external/th-utils/misc_utils.lua'\n\tno file '/usr/local/share/lua/5.1/external/th-utils/misc_utils.lua'\n\tno file '/usr/local/share/lua/5.1/external/th-utils/misc_utils/init.lua'\n\tno file '/home/arun/torch/install/lib/external/th-utils/misc_utils.so'\n\tno file '/home/arun/.luarocks/lib/lua/5.1/external/th-utils/misc_utils.so'\n\tno file '/home/arun/torch/install/lib/lua/5.1/external/th-utils/misc_utils.so'\n\tno file './external/th-utils/misc_utils.so'\n\tno file '/usr/local/lib/lua/5.1/external/th-utils/misc_utils.so'\n\tno file '/usr/local/lib/lua/5.1/loadall.so'\n\tno file '/home/arun/torch/install/lib/external.so'\n\tno file '/home/arun/.luarocks/lib/lua/5.1/external.so'\n\tno file '/home/arun/torch/install/lib/lua/5.1/external.so'\n\tno file './external.so'\n\tno file '/usr/local/lib/lua/5.1/external.so'\n\tno file '/usr/local/lib/lua/5.1/loadall.so'\nstack traceback:\n\t[C]: in function 'require'\n\t[string \"-- List files in checkpoint/ that you want to...\"]:10: in main chunk\n\t[C]: in function 'xpcall'\n\t/home/arun/torch/install/share/lua/5.1/itorch/main.lua:209: in function </home/arun/torch/install/share/lua/5.1/itorch/main.lua:173>\n\t/home/arun/torch/install/share/lua/5.1/lzmq/poller.lua:75: in function 'poll'\n\t/home/arun/torch/install/share/lua/5.1/lzmq/impl/loop.lua:307: in function 'poll'\n\t/home/arun/torch/install/share/lua/5.1/lzmq/impl/loop.lua:325: in function 'sleep_ex'\n\t/home/arun/torch/install/share/lua/5.1/lzmq/impl/loop.lua:370: in function 'start'\n\t/home/arun/torch/install/share/lua/5.1/itorch/main.lua:388: in main chunk\n\t[C]: in function 'require'\n\t(command line):1: in main chunk\n\t[C]: at 0x00406670"
     ]
    }
   ],
   "source": [
    "-- List files in checkpoint/ that you want to plot.\n",
    "files = {\n",
    "  'MLP-imagenet-train.json',\n",
    "}\n",
    "\n",
    "-- Includes.\n",
    "lfs = require 'lfs'\n",
    "lfs.chdir('<your project root dir>')\n",
    "json = require 'cjson'\n",
    "misc_utils = require 'external.th-utils.misc_utils'\n",
    "local colors = {'red', 'blue', 'green', 'cyan', 'purple', 'orange', 'black'}\n",
    "\n",
    "-- Plot each file.\n",
    "local plt = itorch.Plot()\n",
    "for i, file in pairs(files) do\n",
    "  local data = misc_utils.read_json('checkpoint/' .. file)\n",
    "  local x, y = misc_utils.makePlotTensor(data.results_history)\n",
    "  plt:line(x, y, colors[i], paths.basename(file))\n",
    "     :text(x, y, y, torch.Tensor(x:size()):zero(), colors[i], '8pt')\n",
    "end\n",
    "plt:legend(true):xaxis('Iteration'):yaxis('Accuracy'):title('Validation Accuracies'):draw()"
   ]
  },
  {
   "cell_type": "code",
   "execution_count": null,
   "metadata": {
    "collapsed": true
   },
   "outputs": [],
   "source": []
  }
 ],
 "metadata": {
  "kernelspec": {
   "display_name": "iTorch",
   "language": "lua",
   "name": "itorch"
  },
  "language_info": {
   "name": "lua",
   "version": "5.1"
  }
 },
 "nbformat": 4,
 "nbformat_minor": 0
}
